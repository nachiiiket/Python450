{
 "cells": [
  {
   "cell_type": "code",
   "execution_count": 3,
   "metadata": {},
   "outputs": [
    {
     "name": "stdout",
     "output_type": "stream",
     "text": [
      "2247512451664\n",
      "2247512451664\n",
      "2247595275344\n",
      "2247595275920\n"
     ]
    }
   ],
   "source": [
    "a = 10 \n",
    "b = 10\n",
    "\n",
    "print(id(a))\n",
    "print(id(b)) #represents the storage location or adddress\n",
    "\n",
    "#Why 2 differrent variable hve same address then , this is part of python optimization \n",
    "#Python tends to store same id for numbers/int within range of -5 to 256\n",
    "\n",
    "a = 257\n",
    "b = 257\n",
    "\n",
    "print(id(a))\n",
    "print(id(b))\n"
   ]
  },
  {
   "cell_type": "code",
   "execution_count": null,
   "metadata": {},
   "outputs": [],
   "source": []
  }
 ],
 "metadata": {
  "kernelspec": {
   "display_name": "yolov7_custom",
   "language": "python",
   "name": "python3"
  },
  "language_info": {
   "codemirror_mode": {
    "name": "ipython",
    "version": 3
   },
   "file_extension": ".py",
   "mimetype": "text/x-python",
   "name": "python",
   "nbconvert_exporter": "python",
   "pygments_lexer": "ipython3",
   "version": "3.9.18"
  }
 },
 "nbformat": 4,
 "nbformat_minor": 2
}
