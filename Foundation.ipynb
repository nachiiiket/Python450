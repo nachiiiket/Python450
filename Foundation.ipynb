{
 "cells": [
  {
   "cell_type": "markdown",
   "metadata": {},
   "source": [
    "###ID function and memory address\n"
   ]
  },
  {
   "cell_type": "code",
   "execution_count": 3,
   "metadata": {},
   "outputs": [
    {
     "name": "stdout",
     "output_type": "stream",
     "text": [
      "2247512451664\n",
      "2247512451664\n",
      "2247595275344\n",
      "2247595275920\n"
     ]
    }
   ],
   "source": [
    "a = 10 \n",
    "b = 10\n",
    "\n",
    "print(id(a))\n",
    "print(id(b)) #represents the storage location or adddress\n",
    "\n",
    "#Why 2 differrent variable hve same address then , this is part of python optimization \n",
    "#Python tends to store same id for numbers/int within range of -5 to 256\n",
    "\n",
    "a = 257\n",
    "b = 257\n",
    "\n",
    "print(id(a))\n",
    "print(id(b))\n"
   ]
  },
  {
   "cell_type": "markdown",
   "metadata": {},
   "source": [
    "###Aritimetic Operator"
   ]
  },
  {
   "cell_type": "code",
   "execution_count": 5,
   "metadata": {},
   "outputs": [
    {
     "name": "stdout",
     "output_type": "stream",
     "text": [
      "5.0\n",
      "5\n",
      "100\n"
     ]
    }
   ],
   "source": [
    "a = 10\n",
    "b = 2\n",
    "\n",
    "#division for float\n",
    "\n",
    "div = a/b #floating division\n",
    "print(div)\n",
    "\n",
    "divF = a // b #integer diviision\n",
    "print(divF)\n",
    "\n",
    "expo = 10 ** 2 #10^2 10 to power 2\n",
    "print(expo)"
   ]
  },
  {
   "cell_type": "markdown",
   "metadata": {},
   "source": [
    "###TypeOF and TypeCoversion\n"
   ]
  },
  {
   "cell_type": "code",
   "execution_count": 9,
   "metadata": {},
   "outputs": [
    {
     "name": "stdout",
     "output_type": "stream",
     "text": [
      "<class 'str'>\n",
      "<class 'int'>\n",
      "<class 'str'>\n",
      "<class 'int'>\n"
     ]
    }
   ],
   "source": [
    "a = '21'\n",
    "print(type(a))\n",
    "\n",
    "b = int(a)\n",
    "print(type(b))\n",
    "\n",
    "#for input command it takes str by default \n",
    "a = input()\n",
    "print(type(a))\n",
    "\n",
    "#To change we have to mention the type of input \n",
    "b = int(input())\n",
    "print(type(b))"
   ]
  },
  {
   "cell_type": "code",
   "execution_count": null,
   "metadata": {},
   "outputs": [],
   "source": [
    "###uPDATED"
   ]
  }
 ],
 "metadata": {
  "kernelspec": {
   "display_name": "yolov7_custom",
   "language": "python",
   "name": "python3"
  },
  "language_info": {
   "codemirror_mode": {
    "name": "ipython",
    "version": 3
   },
   "file_extension": ".py",
   "mimetype": "text/x-python",
   "name": "python",
   "nbconvert_exporter": "python",
   "pygments_lexer": "ipython3",
   "version": "3.9.18"
  }
 },
 "nbformat": 4,
 "nbformat_minor": 2
}
