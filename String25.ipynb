{
 "cells": [
  {
   "cell_type": "code",
   "execution_count": null,
   "metadata": {},
   "outputs": [],
   "source": [
    "#Reverse an array\n",
    "\n",
    "# Input: arr[] = {1, 4, 3, 2, 6, 5}  \n",
    "# Output: {5, 6, 2, 3, 4, 1}\n",
    "# Explanation: The first element 1 moves to last position, the second element 4 moves to second-last and so on.\n",
    "\n",
    "in_array = {1, 4, 3, 2, 6, 5} \n",
    "for i in range(in_array.size(),0):\n",
    "    "
   ]
  }
 ],
 "metadata": {
  "kernelspec": {
   "display_name": "yolov7_custom",
   "language": "python",
   "name": "python3"
  },
  "language_info": {
   "name": "python",
   "version": "3.9.18"
  }
 },
 "nbformat": 4,
 "nbformat_minor": 2
}
